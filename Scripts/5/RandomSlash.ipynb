{
 "cells": [
  {
   "cell_type": "markdown",
   "metadata": {},
   "source": [
    "# Random Image Slash\n",
    "A 6x6 black-and-white image is represented as a Numpy array x as in the following,\n",
    "\n",
    "    >>> import numpy as np\n",
    "    >>> x = np.eye(6)\n",
    "\n",
    "Note that this is not a grayscale or color image for which there would be three dimensions (e.g., 6 x 6 x 3). This can easily be visualized using Matplotlib's imshow function, as in the following:\n",
    "\n",
    "    >>> from matplotlib.pylab import subplots, cm\n",
    "    >>> fig, ax = subplots()\n",
    "    >>> ax.imshow(x,cmap=cm.gray_r)\n",
    "\n",
    "To debug an image processing algorithm, you have to generate a large number of exemplar training images that consist of such Numpy arrays. Each image should represent a forward or backward leaning slash symbol. Each symbol must consist of at least two non-zero pixels. For example, the longest possible slash symbol that is representable in a 6x6 image is the 6 nonzero pixel diagonal image show above (or its opposite leaning forwardslash variant).\n",
    "\n",
    "The assignment is to write a function that can produce a uniformly random forward or backslashed image (i.e., Numpy array) of at least two non-zero pixels. Here is some code that generates the following figure,\n",
    "\n",
    "    fig,axs=subplots(3,3,sharex=True,sharey=True)\n",
    "    for ax in axs.flatten():\n",
    "        ax.imshow(gen_rand_slash(),cmap=cm.gray_r)\n",
    "\n",
    "\n",
    "Here is the function signature: gen_rand_slash(m=6,n=6,direction='back'). The direction keyword argument can be either back or forward."
   ]
  },
  {
   "cell_type": "code",
   "execution_count": 1,
   "metadata": {},
   "outputs": [],
   "source": [
    "import numpy as np\n",
    "from matplotlib.pylab import subplots, cm\n",
    "import random"
   ]
  },
  {
   "cell_type": "code",
   "execution_count": 2,
   "metadata": {},
   "outputs": [],
   "source": [
    "def gen_rand_slash(m=6,n=6,direction='back'):\n",
    "    assert isinstance(m,int)\n",
    "    assert isinstance(n,int)\n",
    "    assert m>=2\n",
    "    assert n>=2\n",
    "    assert direction=='back' or direction=='forward'\n",
    "    \n",
    "    # length of non-zero pixels\n",
    "    max_len = min(m,n)\n",
    "    len_array = random.choice(range(2,max_len+1))\n",
    "    \n",
    "    array = np.zeros([m,n])\n",
    "    \n",
    "    if direction=='back':\n",
    "        # start position\n",
    "        r_pos = random.choice(range(m-len_array+1))\n",
    "        c_pos = random.choice(range(n-len_array+1))\n",
    "        for i in range(len_array):\n",
    "            array[r_pos][c_pos] = 1\n",
    "            r_pos += 1\n",
    "            c_pos += 1\n",
    "    else:\n",
    "        # start position\n",
    "        r_pos = random.choice(range(m-len_array+1))\n",
    "        c_pos = random.choice(range(len_array-1,n))\n",
    "        for i in range(len_array):\n",
    "            array[r_pos][c_pos] = 1\n",
    "            r_pos += 1\n",
    "            c_pos -= 1        \n",
    "    \n",
    "    return array"
   ]
  },
  {
   "cell_type": "code",
   "execution_count": 3,
   "metadata": {},
   "outputs": [
    {
     "data": {
      "image/png": "[encoded data removed]",
      "text/plain": [
       "<Figure size 432x288 with 9 Axes>"
      ]
     },
     "metadata": {
      "needs_background": "light"
     },
     "output_type": "display_data"
    }
   ],
   "source": [
    "fig,axs=subplots(3,3,sharex=True,sharey=True)\n",
    "for ax in axs.flatten():\n",
    "    ax.imshow(gen_rand_slash(m=6,n=5,direction='forward'),cmap=cm.gray_r)"
   ]
  },
  {
   "cell_type": "code",
   "execution_count": 4,
   "metadata": {},
   "outputs": [],
   "source": [
    "assert gen_rand_slash(3,2).sum().sum()>=2\n",
    "assert gen_rand_slash(3,2,direction='forward').sum().sum()>=2"
   ]
  }
 ],
 "metadata": {
  "kernelspec": {
   "display_name": "Python 3",
   "language": "python",
   "name": "python3"
  },
  "language_info": {
   "codemirror_mode": {
    "name": "ipython",
    "version": 3
   },
   "file_extension": ".py",
   "mimetype": "text/x-python",
   "name": "python",
   "nbconvert_exporter": "python",
   "pygments_lexer": "ipython3",
   "version": "3.7.6"
  }
 },
 "nbformat": 4,
 "nbformat_minor": 4
}
