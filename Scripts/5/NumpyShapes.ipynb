{
 "cells": [
  {
   "cell_type": "markdown",
   "metadata": {},
   "source": [
    "# Numpy Shapes \n",
    "\n",
    "## 1. Create the following Numpy array of 32-bit integers\n",
    "\n",
    "        array([[1, 1, 1, 1, 1], \n",
    "               [0, 1, 1, 1, 1],\n",
    "               [0, 0, 1, 1, 1],\n",
    "               [0, 0, 0, 1, 1],\n",
    "               [0, 0, 0, 0, 1]])"
   ]
  },
  {
   "cell_type": "code",
   "execution_count": 1,
   "metadata": {},
   "outputs": [],
   "source": [
    "import numpy as np\n",
    "from numpy import array"
   ]
  },
  {
   "cell_type": "code",
   "execution_count": 2,
   "metadata": {},
   "outputs": [],
   "source": [
    "arr=1*np.fromfunction(lambda i, j : j>=i, (5,5), dtype=np.int32)"
   ]
  },
  {
   "cell_type": "code",
   "execution_count": 3,
   "metadata": {},
   "outputs": [
    {
     "name": "stdout",
     "output_type": "stream",
     "text": [
      "[[1 1 1 1 1]\n",
      " [0 1 1 1 1]\n",
      " [0 0 1 1 1]\n",
      " [0 0 0 1 1]\n",
      " [0 0 0 0 1]]\n"
     ]
    }
   ],
   "source": [
    "print(arr)"
   ]
  },
  {
   "cell_type": "markdown",
   "metadata": {},
   "source": [
    "## 2. Create the following Numpy array of 16-bit integers\n",
    "\n",
    "        array([[ 1,  2,  3,  4,  5],\n",
    "               [ 0,  6,  7,  8,  9],\n",
    "               [ 0,  0, 10, 11, 12],\n",
    "               [ 0,  0,  0, 13, 14],\n",
    "               [ 0,  0,  0,  0, 15]])"
   ]
  },
  {
   "cell_type": "code",
   "execution_count": 4,
   "metadata": {},
   "outputs": [],
   "source": [
    "arr=1*np.fromfunction(lambda i, j : j>=i, (5,5), dtype=np.int32)\n",
    "counter=1\n",
    "for i in range(len(arr)):\n",
    "    for j in range(len(arr[0])):\n",
    "        if j>=i:\n",
    "            arr[i][j]=counter\n",
    "            counter+=1"
   ]
  },
  {
   "cell_type": "code",
   "execution_count": 5,
   "metadata": {},
   "outputs": [
    {
     "name": "stdout",
     "output_type": "stream",
     "text": [
      "[[ 1  2  3  4  5]\n",
      " [ 0  6  7  8  9]\n",
      " [ 0  0 10 11 12]\n",
      " [ 0  0  0 13 14]\n",
      " [ 0  0  0  0 15]]\n"
     ]
    }
   ],
   "source": [
    "print(arr)"
   ]
  },
  {
   "cell_type": "markdown",
   "metadata": {},
   "source": [
    "## 3.\n",
    "    Given the following two-dimensional array, set the diagonal element to the average of the columns in each respective row not counting the diagonal element in each row. Note that the diagonal element itself is not part of the calculation. It is just a placeholder for the result.\n",
    "\n",
    "        [[0,   3, 14, 13, 12],\n",
    "         [13,  0,  8,  5, 11],\n",
    "         [11, 11,  0, 12, 10],\n",
    "         [11, 12,  1,  0, 10],\n",
    "         [13, 12, 11,  4,  0]]\n",
    "\n",
    "    In this case, your answer should look like the following\n",
    "\n",
    "        [[ 10.5 ,   3.  ,  14.  ,  13.  ,  12.  ],\n",
    "         [ 13.  ,   9.25,   8.  ,   5.  ,  11.  ],\n",
    "         [ 11.  ,  11.  ,  11.  ,  12.  ,  10.  ],\n",
    "         [ 11.  ,  12.  ,   1.  ,   8.5 ,  10.  ],\n",
    "         [ 13.  ,  12.  ,  11.  ,   4.  ,  10.  ]]\n",
    "\n",
    "    In the general case, the diagonal elements won't necessarily be equal to zero like they are here!"
   ]
  },
  {
   "cell_type": "code",
   "execution_count": 6,
   "metadata": {},
   "outputs": [],
   "source": [
    "from __future__ import division\n",
    "import numpy as np\n",
    "from numpy import float\n",
    "def average_into_diagonal(x):\n",
    "    assert isinstance(x,np.ndarray),'input is not a array type'\n",
    "    assert x.ndim == 2,'input matrix is not a 2D matrix'\n",
    "    assert x.shape[0] == x.shape[1],'input matrix is not a square shape'\n",
    "    x = x.astype(float)\n",
    "    n = len(x)  \n",
    "    for i in range(n): \n",
    "        sum_of_row = 0\n",
    "        for j in range(n):\n",
    "            if i == j:\n",
    "                pass\n",
    "            else:\n",
    "                sum_of_row += x[i][j]\n",
    "            x[i][i] = sum_of_row/(n-1)\n",
    "    return x"
   ]
  },
  {
   "cell_type": "code",
   "execution_count": 7,
   "metadata": {},
   "outputs": [
    {
     "name": "stdout",
     "output_type": "stream",
     "text": [
      "[[10.5   3.   14.   13.   12.  ]\n",
      " [13.    9.25  8.    5.   11.  ]\n",
      " [11.   11.   11.   12.   10.  ]\n",
      " [11.   12.    1.    8.5  10.  ]\n",
      " [13.   12.   11.    4.   10.  ]]\n"
     ]
    }
   ],
   "source": [
    "x = [[0,   3, 14, 13, 12],\n",
    " [13,  0,  8,  5, 11],\n",
    " [11, 11,  0, 12, 10],\n",
    " [11, 12,  1,  0, 10],\n",
    " [13, 12, 11,  4,  0]]\n",
    "\n",
    "x = np.asarray(x)\n",
    "newX = average_into_diagonal(x)\n",
    "print(newX)"
   ]
  }
 ],
 "metadata": {
  "kernelspec": {
   "display_name": "Python 3",
   "language": "python",
   "name": "python3"
  },
  "language_info": {
   "codemirror_mode": {
    "name": "ipython",
    "version": 3
   },
   "file_extension": ".py",
   "mimetype": "text/x-python",
   "name": "python",
   "nbconvert_exporter": "python",
   "pygments_lexer": "ipython3",
   "version": "3.7.6"
  }
 },
 "nbformat": 4,
 "nbformat_minor": 4
}
